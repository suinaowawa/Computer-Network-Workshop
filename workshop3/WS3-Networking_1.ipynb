{
 "cells": [
  {
   "cell_type": "markdown",
   "metadata": {},
   "source": [
    "**<font color='red'>Report Submission Information (must be completed before submitting report!)</font>**\n",
    "\n",
    "* Student 1 Full Name and Number : Yi Jian 850509\n",
    "* Student 2 Full Name and Number : Yue Chang 872301\n",
    "* Workshop day : Thursday\n",
    "* Workshop time : 11am"
   ]
  },
  {
   "cell_type": "markdown",
   "metadata": {},
   "source": [
    "# <font color='blue'> Workshop 3 – Network Addressing, Graphs, and Routing [2 weeks] </font> \n",
    "\n",
    "## Objectives:\n",
    "\n",
    "* Gain hands-on experience on network addressing, graphs, and routing protocols.\n",
    "* Practical experience with IPv4 and MAC addresses, prefixes, and [CIDR](https://en.wikipedia.org/wiki/Classless_Inter-Domain_Routing) using python.\n",
    "* Learn how to represent graphs and compute some basic centrality metrics.\n",
    "* Program a basic routing protocol such as the Dijkstra’s algorithm.\n",
    "\n",
    "> __Common objectives of all workshops:__\n",
    "> Gain hands-on experience and learn by doing! Understand how theoretical knowledge discussed in lectures relates to practice. Develop motivation for gaining further theoretical and practical knowledge beyond the subject material.\n",
    "\n",
    "## Overview:\n",
    "In this workshop you will gain practical experience on networking and graph theory basics we have covered in the classroom such as network addressing, graphs, and routing protocols. Firstly, you will learn how to represent and manipulate network addresses using the *netaddr* python library.  Specifically, you will experiment with IPv4 and MAC addresses, subnets, masks, prefixes, and CIDR.  Secondly, you will learn how to program simple graphs in python using *networkx* library and compute basic centrality metrics such as degree and betweenness centrality. Finally, you will program a basic routing protocol such as the Dijkstra’s algorithm and find shortest paths on simple graphs. \n",
    "\n",
    "This workshop gives you a chance to implement the theory you have learned in the lectures and gain some practical experience on fundamentals of graphs and networking. The topics are relevant to Layers 2, 3 as well as the Application Layer, e.g. social networks. "
   ]
  },
  {
   "cell_type": "markdown",
   "metadata": {
    "collapsed": true
   },
   "source": [
    "## Workshop Preparation: [before you arrive to the lab]\n",
    "\n",
    "You can come to the workshops as you are or you can prepare beforehand to learn much more! \n",
    "We will give you a lot of time to finish the tasks but those are the bare minimums. Just like in the lectures, the topics we cover in the workshops are quite deep and we can only do so much in two hours. There is much more to learn and coming prepared to the workshop is one of the best ways to gain more knowledge! For example, there are a few questions in each workshop which you can answer beforehand.\n",
    "\n",
    "> __Self-learning__ is one of the most important skills that you should acquire as a student. Today, self-learning is much easier than it used to be thanks to a plethora of online resources.\n",
    "For this workshop, start by exploring the resource mentioned in the preparation steps below.\n",
    "\n",
    "### Workshop Preparation Steps:\n",
    "\n",
    "1. Common step for all workshops: read the Workshop Manual (in this case in form of Jupyter Notebook) beforehand!    \n",
    "2. Review relevant lecture slides on addressing, graph theory, and routing.\n",
    "3. Read Chapter 4 from Tanenbaum and Chapter 5 from Kurose-Ross.\n",
    "4. Read [netaddr](https://netaddr.readthedocs.io/en/latest/index.html) and [networkx](https://networkx.github.io/documentation/stable/index.html) documentation.\n",
    "5. Practice your Python skills.\n",
    "6. [optional] read introductory material about network science and graph theory.\n",
    "7. _\\[optional\\]_ _You can start with workshop tasks and questions_\n",
    "\n",
    "\n",
    "## Tasks and Questions:\n",
    "\n",
    "Follow the procedures described below, perform the given tasks and answer the workshop questions __preferably__ on the Python notebook itself! If you prefer, however, you can still provide answers as separate scripts and submit all in a zip file. The marks associated with each question are clearly stated. Keep your answers to the point and complete to get full marks! Ensure that your code is clean and appropriately commented. \n",
    "\n",
    "__The resulting notebook will be (part of) your Workshop Report!__\n",
    "\n",
    "> __The goal is to learn__, NOT blindly follow the procedures in the fastest possible way! __Do not simply copy-paste answers (from Internet, friends, etc.). You can and should use all available resources but only to develop your own understanding. If you copy-paste, you will pay the price in the final exam!__"
   ]
  },
  {
   "cell_type": "markdown",
   "metadata": {
    "collapsed": true
   },
   "source": [
    "# Section 1: Network Addresses"
   ]
  },
  {
   "cell_type": "markdown",
   "metadata": {},
   "source": [
    "Refer to the [netaddr library documentation](https://netaddr.readthedocs.io/en/latest/index.html) for the following exercises. First, however, we need to install relevant packages.\n",
    "\n",
    "If you are using Anaconda, *networkx* should be already installed. **If not,** you can install simply by executing the following cell."
   ]
  },
  {
   "cell_type": "code",
   "execution_count": 1,
   "metadata": {},
   "outputs": [
    {
     "name": "stdout",
     "output_type": "stream",
     "text": [
      "Requirement already satisfied: networkx in c:\\users\\sarah\\anaconda3\\lib\\site-packages\n",
      "Requirement already satisfied: decorator>=4.1.0 in c:\\users\\sarah\\anaconda3\\lib\\site-packages (from networkx)\n"
     ]
    },
    {
     "name": "stderr",
     "output_type": "stream",
     "text": [
      "You are using pip version 9.0.1, however version 19.2.3 is available.\n",
      "You should consider upgrading via the 'python -m pip install --upgrade pip' command.\n"
     ]
    }
   ],
   "source": [
    "!pip install networkx"
   ]
  },
  {
   "cell_type": "markdown",
   "metadata": {},
   "source": [
    "The package *netaddr* is probably not installed. You can install it similarly by executing"
   ]
  },
  {
   "cell_type": "code",
   "execution_count": 2,
   "metadata": {
    "scrolled": true
   },
   "outputs": [
    {
     "name": "stdout",
     "output_type": "stream",
     "text": [
      "Collecting netaddr\n",
      "  Downloading https://files.pythonhosted.org/packages/ba/97/ce14451a9fd7bdb5a397abf99b24a1a6bb7a1a440b019bebd2e9a0dbec74/netaddr-0.7.19-py2.py3-none-any.whl (1.6MB)\n",
      "Installing collected packages: netaddr\n",
      "Successfully installed netaddr-0.7.19\n"
     ]
    },
    {
     "name": "stderr",
     "output_type": "stream",
     "text": [
      "You are using pip version 9.0.1, however version 19.2.3 is available.\n",
      "You should consider upgrading via the 'python -m pip install --upgrade pip' command.\n"
     ]
    }
   ],
   "source": [
    "!pip install netaddr"
   ]
  },
  {
   "cell_type": "markdown",
   "metadata": {},
   "source": [
    "Ask for help from your demonstrator in case you need it.\n",
    "Alternatively, you can install the needed packages by opening the terminal in Anaconda environment and typing\n",
    "``` pip install networkx ```\n",
    "and\n",
    "``` pip install netaddr ```"
   ]
  },
  {
   "cell_type": "code",
   "execution_count": 1,
   "metadata": {},
   "outputs": [],
   "source": [
    "import numpy as np\n",
    "import matplotlib.pyplot as plt\n",
    "\n",
    "from netaddr import *\n",
    "import pprint  #this is optional"
   ]
  },
  {
   "cell_type": "markdown",
   "metadata": {},
   "source": [
    "In netaddr library, *IPAddress* object represents a single IP address whereas IPNetwork objects are used to represent subnets, networks or VLANs that accept CIDR prefixes and netmasks. \n",
    "\n",
    "### Question 1.1. (1 point)\n",
    "Represent your computer’s IPv4 address using the IPAddress object,\n",
    "e.g. myip=IPAddress('10.100.144.45'). Now, referring to the library documentation, find its version, binary representation, and ipv6 mapping. Discuss your findings briefly.\n",
    "> Hint: you can find your computer’s IP address from command line using ipconfig in windows and ifconfig in linux."
   ]
  },
  {
   "cell_type": "code",
   "execution_count": 2,
   "metadata": {},
   "outputs": [
    {
     "name": "stdout",
     "output_type": "stream",
     "text": [
      "The vision is: 4\n",
      "The binary representation is: 00001010.00001101.01010100.00000101\n",
      "The ipv6 mapping is: ::ffff:10.13.84.5\n"
     ]
    }
   ],
   "source": [
    "myip_v4 = IPAddress('10.13.84.5')\n",
    "print('The vision is:',myip_v4.version)\n",
    "print('The binary representation is:',myip_v4.bits())\n",
    "myip_v6 = IPAddress('10.13.84.5').ipv6()\n",
    "print('The ipv6 mapping is:',myip_v6)\n"
   ]
  },
  {
   "cell_type": "markdown",
   "metadata": {},
   "source": [
    "**Answer:** \n",
    "\n",
    "The vision is: 4\n",
    "\n",
    "The binary representation is: 00001010.00001101.01010100.00000101\n",
    "\n",
    "The ipv6 mapping is: ::ffff:10.13.84.5\n",
    "\n",
    "IPv4 is 4 bytes(32 bits), and IPv6 is 16 bytes(128 bits). When do IPv6 mapping it just save the IPv4 4 bytes, and the other 12 bytes all '1'."
   ]
  },
  {
   "cell_type": "markdown",
   "metadata": {},
   "source": [
    "### Question 1.2. (1 point)\n",
    "\n",
    "Represent the following subnetwork, 214.97.254/23, using *IPNetwork* object. Find, using netaddr library functions, its beginning IP address, prefix-length, size, broadcast, netmask, and hostmask. Find the broadcast, netmask, and hostmask bits in binary format. Discuss your findings briefly."
   ]
  },
  {
   "cell_type": "code",
   "execution_count": 3,
   "metadata": {},
   "outputs": [
    {
     "name": "stdout",
     "output_type": "stream",
     "text": [
      "The beginning IP address is: 214.97.254.0\n",
      "The prefix-length is: 23\n",
      "The size is: 512\n",
      "The broadcast is: 214.97.255.255\n",
      "The netmask is: 255.255.254.0\n",
      "The hostmask is: 0.0.1.255\n",
      "The broadcast in binary format is: 11010110.01100001.11111111.11111111\n",
      "The netmask in binary format is: 11111111.11111111.11111110.00000000\n",
      "The hostmask in binary format is: 00000000.00000000.00000001.11111111\n"
     ]
    }
   ],
   "source": [
    "ip_2 = IPNetwork('214.97.254/23')\n",
    "print('The beginning IP address is:',ip_2.ip)\n",
    "print('The prefix-length is:',ip_2.prefixlen)\n",
    "print('The size is:',ip_2.size)\n",
    "print('The broadcast is:',ip_2.broadcast)\n",
    "print('The netmask is:',ip_2.netmask)\n",
    "print('The hostmask is:',ip_2.hostmask)\n",
    "print('The broadcast in binary format is:',ip_2.broadcast.bits())\n",
    "print('The netmask in binary format is:',ip_2.netmask.bits())\n",
    "print('The hostmask in binary format is:',ip_2.hostmask.bits())"
   ]
  },
  {
   "cell_type": "markdown",
   "metadata": {},
   "source": [
    "**Answer:** \n",
    "\n",
    "According to CIDR representation, the /23 means 23 bits(leftmost) are used in subnet portion. So the prefix length is 23. And there remains 9 bits for hosts, the total size of IP is 2^9 = 512. When broadcasting the host bits are all '1'. "
   ]
  },
  {
   "cell_type": "markdown",
   "metadata": {},
   "source": [
    "Next, we will investigate subnets, supernets, arbitrary IP address ranges and how to represent those using CIDR notation. You can apply these tools to example problems we have done in the lectures as well!"
   ]
  },
  {
   "cell_type": "markdown",
   "metadata": {},
   "source": [
    "### Question 1.3. (1 point)\n",
    "\n",
    "Create and list subnets and supernets with prefix-lengths of 26 and 20, that are contained within and contain the subnetwork, 214.97.254/23, respectively, using *subnet* and *supernet* functions. Explain/comment briefly."
   ]
  },
  {
   "cell_type": "code",
   "execution_count": 4,
   "metadata": {},
   "outputs": [
    {
     "name": "stdout",
     "output_type": "stream",
     "text": [
      "The subnets are: [IPNetwork('214.97.254.0/26'), IPNetwork('214.97.254.64/26'), IPNetwork('214.97.254.128/26'), IPNetwork('214.97.254.192/26'), IPNetwork('214.97.255.0/26'), IPNetwork('214.97.255.64/26'), IPNetwork('214.97.255.128/26'), IPNetwork('214.97.255.192/26')]\n",
      "The supernets are: [IPNetwork('214.97.240.0/20'), IPNetwork('214.97.248.0/21'), IPNetwork('214.97.252.0/22')]\n"
     ]
    }
   ],
   "source": [
    "ip_3 = IPNetwork('214.97.254/23')\n",
    "subnets = list(ip_3.subnet(26))\n",
    "supernets = list(ip_3.supernet(20))\n",
    "print('The subnets are:',subnets)\n",
    "print('The supernets are:',supernets)"
   ]
  },
  {
   "cell_type": "markdown",
   "metadata": {},
   "source": [
    "**Answer:** \n",
    "\n",
    "We learned from last question,'214.97.254/23' size is 512, and /26 means 6 bits for hosts, so for each subnets the size is 64, that is we can divided into 8 subnets of prefix-length 26. For the prefix-length of 20, if we keep the 20 bits of prefix the same with '214.97.254/23', then those are the supernets for this IP, and for prefix-length 21,22 we can also see them as supernets, since their 20 bits(leftmost) are the same with '214.97.254/23', so the IP in contained in those networks too."
   ]
  },
  {
   "cell_type": "markdown",
   "metadata": {},
   "source": [
    "### Question 1.4. (2 points)\n",
    "\n",
    "Create a subnet for the range of addresses between 192.0.2.1 and 192.0.2.33 using *IPRange* function. What are the CIDR subnetworks that cover this range of addresses? Can you cover this range with a superset of two CIDR subnetworks that differs from the original set by only one IP address? What is that extra IP address?"
   ]
  },
  {
   "cell_type": "code",
   "execution_count": 5,
   "metadata": {},
   "outputs": [
    {
     "name": "stdout",
     "output_type": "stream",
     "text": [
      "The CIDR subnetworks are: [IPNetwork('192.0.2.1/32'), IPNetwork('192.0.2.2/31'), IPNetwork('192.0.2.4/30'), IPNetwork('192.0.2.8/29'), IPNetwork('192.0.2.16/28'), IPNetwork('192.0.2.32/31')]\n"
     ]
    }
   ],
   "source": [
    "r1 = IPRange('192.0.2.1', '192.0.2.33')\n",
    "print('The CIDR subnetworks are:',r1.cidrs())\n",
    "\n"
   ]
  },
  {
   "cell_type": "markdown",
   "metadata": {},
   "source": [
    "**Answer:**\n",
    "\n",
    "The CIDR superset that cover the range of addresses is '192.0.2.0/27' and '192.0.2.32/31', and the extra IP address is '192.0.2.0'.\n"
   ]
  },
  {
   "cell_type": "markdown",
   "metadata": {},
   "source": [
    "Finally, we have a look at MAC addresses. The netaddr library EUI objects provide an interface to the **OUI** (Organisationally Unique Identifier) and **IAB** (Individual Address Block) registration databases available from the IEEE. Explain your findings and/or comment briefly."
   ]
  },
  {
   "cell_type": "markdown",
   "metadata": {},
   "source": [
    "### Question 1.5. (1 point)\n",
    "\n",
    "Find the MAC address of your computer or mobile device (e.g. using ipconfig or device settings). Create an EUI object and find OUI (or IAB) details as well as registration information of your network device. \n",
    "\n",
    "> Note: the database installed with netaddr can be over one year old, so if your device is newer, it cannot find its registration!"
   ]
  },
  {
   "cell_type": "code",
   "execution_count": 6,
   "metadata": {},
   "outputs": [
    {
     "name": "stdout",
     "output_type": "stream",
     "text": [
      "BC-83-85\n",
      "None\n",
      "['One Microsoft Way', 'REDMOND  WA  98052', 'US']\n",
      "Microsoft Corporation\n"
     ]
    }
   ],
   "source": [
    "mac = EUI('BC-83-85-E5-B3-C9')\n",
    "oui = mac.oui\n",
    "iab = mac.iab\n",
    "print(oui)\n",
    "print(iab)\n",
    "print(oui.registration().address)\n",
    "print(oui.registration().org)\n",
    "\n"
   ]
  },
  {
   "cell_type": "markdown",
   "metadata": {},
   "source": [
    "**Answer:**\n",
    "\n",
    "The information shown as above."
   ]
  },
  {
   "cell_type": "markdown",
   "metadata": {},
   "source": [
    "# Section 2: Graphs and Centrality Metrics\n",
    "\n",
    "In this section, you will define simple graphs and compute some basic metrics using the networkx python library. \n",
    "\n",
    "Please refer to the [networkx library documentation](https://networkx.github.io/documentation/stable/index.html) for the following tasks."
   ]
  },
  {
   "cell_type": "code",
   "execution_count": 2,
   "metadata": {},
   "outputs": [],
   "source": [
    "import networkx as nx"
   ]
  },
  {
   "cell_type": "markdown",
   "metadata": {},
   "source": [
    "We will first create and draw a simple undirected graph, which is predefined in the library using"
   ]
  },
  {
   "cell_type": "code",
   "execution_count": 8,
   "metadata": {},
   "outputs": [
    {
     "data": {
      "image/png": "[encoded data removed]",
      "text/plain": [
       "<matplotlib.figure.Figure at 0x2299895acc0>"
      ]
     },
     "metadata": {},
     "output_type": "display_data"
    }
   ],
   "source": [
    "expmaze=nx.sedgewick_maze_graph()\n",
    "\n",
    "plt.figure()\n",
    "nx.draw_circular(expmaze, with_labels=True)"
   ]
  },
  {
   "cell_type": "markdown",
   "metadata": {},
   "source": [
    "The networkx library provides multiple drawing options; feel free to experiment!\n",
    "\n",
    "Next, let’s investigate some of the basic properties of this graph."
   ]
  },
  {
   "cell_type": "markdown",
   "metadata": {},
   "source": [
    "### Question 2.1. (1 point)\n",
    "\n",
    "Find the list of nodes (vertices) and edges (links) of this graph. Find the list of node 4’s neighbours. What are the degrees of all the nodes and the mean degree of the graph?  "
   ]
  },
  {
   "cell_type": "code",
   "execution_count": 9,
   "metadata": {},
   "outputs": [
    {
     "name": "stdout",
     "output_type": "stream",
     "text": [
      "The nodes are: [0, 1, 2, 3, 4, 5, 6, 7]\n",
      "The egdes are: [(0, 2), (0, 7), (0, 5), (1, 7), (2, 6), (3, 4), (3, 5), (4, 5), (4, 7), (4, 6)]\n",
      "The neighbours of node 4 are: [3, 5, 7, 6]\n",
      "The degrees of all nodes are: [(0, 3), (1, 1), (2, 2), (3, 2), (4, 4), (5, 3), (6, 2), (7, 3)]\n",
      "The mean degree are: {3: 2.7777777777777777, 1: 3.0, 2: 3.0, 4: 2.5}\n"
     ]
    }
   ],
   "source": [
    "print('The nodes are:',expmaze.nodes)\n",
    "print('The egdes are:',expmaze.edges)\n",
    "print('The neighbours of node 4 are:',list(expmaze.neighbors(4)))\n",
    "print('The degrees of all nodes are:',expmaze.degree)\n",
    "print('The mean degree are:',nx.k_nearest_neighbors(expmaze))"
   ]
  },
  {
   "cell_type": "markdown",
   "metadata": {},
   "source": [
    "**Answer:**\n",
    "\n",
    "There are eight nodes in the graph, which are [0, 1, 2, 3, 4, 5, 6, 7];ten edges in the graph, which are [(0, 2), (0, 7), (0, 5), (1, 7), (2, 6), (3, 4), (3, 5), (4, 5), (4, 7), (4, 6)].\n",
    "\n",
    "The neighbours of node 4 are node 3,5,6,7.\n",
    "\n",
    "The degree of node 0 is 3,the degree of node 1 is 1,the degree of node 2 is 2,the degree of node 3 is 2,the degree of node 4 is 4,the degree of node 5 is 3,the degree of node 6 is 2, the degree of node 7 is 3.\n",
    "\n",
    "The mean degree are shown as above too.\n",
    "\n"
   ]
  },
  {
   "cell_type": "markdown",
   "metadata": {},
   "source": [
    "### Question 2.2. (1 point)\n",
    "\n",
    "Find the adjacency matrix of this graph. Is the matrix symmetric? Why or why not?"
   ]
  },
  {
   "cell_type": "code",
   "execution_count": 10,
   "metadata": {},
   "outputs": [
    {
     "name": "stdout",
     "output_type": "stream",
     "text": [
      "[[0 0 1 0 0 1 0 1]\n",
      " [0 0 0 0 0 0 0 1]\n",
      " [1 0 0 0 0 0 1 0]\n",
      " [0 0 0 0 1 1 0 0]\n",
      " [0 0 0 1 0 1 1 1]\n",
      " [1 0 0 1 1 0 0 0]\n",
      " [0 0 1 0 1 0 0 0]\n",
      " [1 1 0 0 1 0 0 0]]\n"
     ]
    }
   ],
   "source": [
    "A = nx.adjacency_matrix(expmaze)\n",
    "print(A.todense())"
   ]
  },
  {
   "cell_type": "markdown",
   "metadata": {},
   "source": [
    "**Answer:**\n",
    "Yes, it is a symmetric matrix, because it is a non-directed graph."
   ]
  },
  {
   "cell_type": "markdown",
   "metadata": {},
   "source": [
    "**Centrality** is an important concept in network science and there are various centrality metrics that aim to address the question “Which are the most important or central vertices in a network?” "
   ]
  },
  {
   "cell_type": "markdown",
   "metadata": {},
   "source": [
    "### Question 2.3. (1 point)\n",
    "\n",
    "Find the **degree_centrality**  of the graph using the respective function provided in networkx library. How does it relate to the degrees of the nodes? \n",
    "\n",
    "> Hint: check the lecture notes as well as function documentation."
   ]
  },
  {
   "cell_type": "code",
   "execution_count": 11,
   "metadata": {
    "scrolled": true
   },
   "outputs": [
    {
     "name": "stdout",
     "output_type": "stream",
     "text": [
      "{0: 0.42857142857142855, 1: 0.14285714285714285, 2: 0.2857142857142857, 3: 0.2857142857142857, 4: 0.5714285714285714, 5: 0.42857142857142855, 6: 0.2857142857142857, 7: 0.42857142857142855}\n"
     ]
    }
   ],
   "source": [
    "print(nx.degree_centrality(expmaze))"
   ]
  },
  {
   "cell_type": "markdown",
   "metadata": {},
   "source": [
    "**Answer：**\n",
    "\n",
    "The degree centrality values are normalized by dividing by the maximum possible degree in a simple graph n-1 where n is the number of nodes in the graph.\n",
    "\n",
    "In this graph, there are 8 nodes in total. For example, node 1 has a degree of 3, so its centrality is 3/7=0.42857142857142855.\n",
    "\n",
    "Centrality means the node that are connected to most other nodes,which is the similar to say the node that have most neighbors(highest degree) and from the last question, we can see that the degree of node 4 is the highest, which matches the result here, the centrality of node 4 is highest."
   ]
  },
  {
   "cell_type": "markdown",
   "metadata": {},
   "source": [
    "### Question 2.4. (2 points)\n",
    "\n",
    "Find the eigenvector centrality, Katz centrality, and betweenness centrality of the graph. Provide brief definitions of each metric. Which node(s) seem(s) most important according to these metrics? Discuss briefly."
   ]
  },
  {
   "cell_type": "code",
   "execution_count": 58,
   "metadata": {
    "scrolled": true
   },
   "outputs": [
    {
     "name": "stdout",
     "output_type": "stream",
     "text": [
      "The eigenvector centrality:  {0: 0.37603370644310635, 1: 0.1324777700205187, 2: 0.23203108991568766, 3: 0.3448232725165962, 4: 0.5132763938815256, 5: 0.44437659241176525, 6: 0.2683649217121724, 7: 0.36791824160734143}\n",
      "The Katz centrality:  {0: 0.3689096296618003, 1: 0.29844177704657576, 2: 0.3319790026501636, 3: 0.3391626565625621, 4: 0.403137032822609, 5: 0.37269988216615, 6: 0.3350905798439512, 7: 0.36862780544753904}\n",
      "The betweenness centrality:  {0: 0.21428571428571427, 1: 0.0, 2: 0.047619047619047616, 3: 0.0, 4: 0.3571428571428571, 5: 0.09523809523809523, 6: 0.07142857142857142, 7: 0.30952380952380953}\n"
     ]
    }
   ],
   "source": [
    "print('The eigenvector centrality: ',nx.eigenvector_centrality(expmaze))\n",
    "print('The Katz centrality: ',nx.katz_centrality(expmaze))\n",
    "print('The betweenness centrality: ',nx.betweenness_centrality(expmaze))"
   ]
  },
  {
   "cell_type": "markdown",
   "metadata": {},
   "source": [
    "**Answer:**\n",
    "\n",
    "Eigenvector centrality is a measure of the influence a node has on a network. If a node is pointed to by many nodes then that node will have high eigenvector centrality.The eigenvector centrality for node i is the i-th element of the vector x defined by the equation:\n",
    "$$Ax=λx$$ \n",
    "where A is the adjacency matrix of the graph with eigenvalue λ.\n",
    "Reference:https://en.wikipedia.org/wiki/Eigenvector_centrality\n",
    "https://networkx.github.io/documentation/stable/reference/algorithms/generated/networkx.algorithms.centrality.eigenvector_centrality.html#networkx.algorithms.centrality.eigenvector_centrality\n",
    "\n",
    "Katz centrality computes the relative influence of a node within a network by measuring the number of the immediate neighbors (first degree nodes) and also all other nodes in the network that connect to the node under consideration through these immediate neighbors. It is a generalization of the eigenvector centrality. The Katz centrality for node i is:\n",
    "$$x_{i}=\\alpha \\sum_{j} A_{i j} x_{j}+\\beta$$\n",
    "where A is the adjacency matrix of graph G with eigenvalues λ.\n",
    "The parameter β controls the initial centrality, the default value is 1.0 and $\\alpha<\\frac{1}{\\lambda_{\\max }}$, the default value is 0.1.\n",
    "Reference:https://en.wikipedia.org/wiki/Katz_centrality\n",
    "https://networkx.github.io/documentation/stable/reference/algorithms/generated/networkx.algorithms.centrality.katz_centrality.html?highlight=katz%20centrality\n",
    "\n",
    "The betweenness centrality for each vertex is the number of these shortest paths that pass through the vertex.Betweenness centrality of a node v is the sum of the fraction of all-pairs shortest paths that pass through v \n",
    "$$c_{B}(v)=\\sum_{s, t \\in V} \\frac{\\sigma(s, t | v)}{\\sigma(s, t)}$$\n",
    "where V is the set of nodes, σ(s,t) is the number of shortest (s,t) -paths, and σ(s,t|v) is the number of those paths passing through some node v other than s,t. If s=t, σ(s,t)=1, and if v∈s,t, σ(s,t|v)=0.\n",
    "Reference:\n",
    "https://en.wikipedia.org/wiki/Betweenness_centrality\n",
    "https://networkx.github.io/documentation/stable/reference/algorithms/generated/networkx.algorithms.centrality.betweenness_centrality.html?highlight=betweenness%20centrality\n",
    "\n",
    "The node 4 is most important because it has the largest centrality in all these matrics."
   ]
  },
  {
   "cell_type": "markdown",
   "metadata": {},
   "source": [
    "### *Optional* Bonus (1 point)\n",
    "\n",
    "Create a directed graph and find the pagerank of its nodes. Discuss how you can apply this to web pages and http links. "
   ]
  },
  {
   "cell_type": "code",
   "execution_count": 12,
   "metadata": {
    "scrolled": true
   },
   "outputs": [
    {
     "name": "stdout",
     "output_type": "stream",
     "text": [
      "{1: 0.23276180708285304, 2: 0.2533475360204251, 3: 0.23854330245041536, 4: 0.030000000000000006, 5: 0.24534735444630643}\n"
     ]
    },
    {
     "data": {
      "image/png": "[encoded data removed]",
      "text/plain": [
       "<matplotlib.figure.Figure at 0x2299a98bc88>"
      ]
     },
     "metadata": {},
     "output_type": "display_data"
    }
   ],
   "source": [
    "DG = nx.DiGraph()\n",
    "DG.add_edges_from([(1, 2), (3, 1),(4, 2),(5, 3),(2, 5)])\n",
    "plt.figure()\n",
    "nx.draw_circular(DG, with_labels=True)\n",
    "print(nx.pagerank(DG))\n"
   ]
  },
  {
   "cell_type": "markdown",
   "metadata": {},
   "source": [
    "**Answer:**\n",
    "\n",
    "The pagebank is to give each page a relative score of importance and authority by evaluating the quality and quantity of its links.Its purpose is to determine the relative importance of a given webpage in a network. So it is useful for a search engine."
   ]
  },
  {
   "cell_type": "markdown",
   "metadata": {},
   "source": [
    "# Section 3: Routing and Dijskstra’s Algorithm\t\n",
    "\n",
    "In this section, you will implement Dijkstra’s shortest path routing algorithm as discussed during lectures for simple graphs and check your answers using the networkx python library.\n",
    "\n",
    "Let's create a graph representing a network first!"
   ]
  },
  {
   "cell_type": "code",
   "execution_count": 4,
   "metadata": {},
   "outputs": [
    {
     "data": {
      "text/plain": [
       "{('u', 'v'): Text(0.5,1.5,'2'),\n",
       " ('u', 'w'): Text(1,1.5,'5'),\n",
       " ('u', 'x'): Text(0.5,0.5,'1'),\n",
       " ('v', 'w'): Text(1.5,2,'3'),\n",
       " ('v', 'x'): Text(1,1,'2'),\n",
       " ('w', 'y'): Text(2,1,'1'),\n",
       " ('w', 'z'): Text(2.5,1.5,'5'),\n",
       " ('x', 'w'): Text(1.5,1,'3'),\n",
       " ('x', 'y'): Text(1.5,0,'1'),\n",
       " ('y', 'z'): Text(2.5,0.5,'2')}"
      ]
     },
     "execution_count": 4,
     "metadata": {},
     "output_type": "execute_result"
    },
    {
     "data": {
      "image/png": "[encoded data removed]",
      "text/plain": [
       "<matplotlib.figure.Figure at 0x14ed5acccc0>"
      ]
     },
     "metadata": {},
     "output_type": "display_data"
    }
   ],
   "source": [
    "# Create the graph\n",
    "G = nx.Graph()\n",
    "G.add_nodes_from(['u', 'v', 'x', 'w', 'y', 'z'])\n",
    "G.add_weighted_edges_from([('u', 'v', 2), ('u', 'w', 5), ('u', 'x', 1), ('x', 'v', 2),\n",
    "                           ('x', 'w', 3), ('x', 'y', 1), ('v', 'w', 3), ('y', 'w', 1),\n",
    "                           ('y', 'z', 2), ('w', 'z', 5)])\n",
    "\n",
    "# get labels and set positions\n",
    "Glabels = nx.get_edge_attributes(G, 'weight')\n",
    "pos = {'u': [0, 1], 'v': [1, 2], 'x': [1, 0], 'y': [2, 0], 'w': [2, 2], 'z': [3, 1]}\n",
    "\n",
    "# Draw the graph\n",
    "plt.figure()\n",
    "nx.draw(G, pos, with_labels=True)\n",
    "nx.draw_networkx_edge_labels(G, pos, edge_labels=Glabels, font_weight='bold')"
   ]
  },
  {
   "cell_type": "markdown",
   "metadata": {},
   "source": [
    "Take the pseudocode of the Dijkstra’s algorithm provided in the lectures as a reference. Before you write your own implementation of the algorithm, here are a few useful **hints**: \n",
    "\n",
    "* You can rely on networkx library functions to access the properties of the graph defined in graph_for_routing.py . For example: G[‘u’], G.nodes(), G.edges(), etc.\n",
    "* You can use python list as an ordered data structure to store the list of previous nodes."
   ]
  },
  {
   "cell_type": "markdown",
   "metadata": {},
   "source": [
    "### Question 3.1. (8 points)\n",
    "\n",
    "Write your own implementation of Dijkstra’s algorithm in the form of a function, e.g. *mydijkstra(inputgraph,sourcenode)*. \n",
    "\n",
    "You can use the graph G in the provided above as the input. Your function should return \n",
    "1. the list of the distance of all nodes in the inputgraph to the given sourcenode (distance to self is zero)\n",
    "\n",
    "2. the list of previous node(s) as part of the shortest path solution as discussed in lectures. Fully comment your code to demonstrate your understanding of the algorithm. \n",
    "\n",
    "Provide the full source code of your script along with your function below (or as a separate file).\n",
    "\n",
    "> Note that although you can find many variants online, it is important that you write your own code in your own style. There are many ways of implementing Dijkstra’s algorithm depending on the data structures used. Do not worry about efficiency of your code for this exercise. "
   ]
  },
  {
   "cell_type": "code",
   "execution_count": 18,
   "metadata": {
    "scrolled": true
   },
   "outputs": [
    {
     "name": "stdout",
     "output_type": "stream",
     "text": [
      "The shortest distance from source node to u is 0\n",
      "The shortest distance from source node to v is 2\n",
      "The shortest distance from source node to x is 1\n",
      "The shortest distance from source node to w is 3\n",
      "The shortest distance from source node to y is 2\n",
      "The shortest distance from source node to z is 4\n",
      "Path from source node to v is ['v']\n",
      "Path from source node to x is ['x']\n",
      "Path from source node to w is ['x', 'y', 'w']\n",
      "Path from source node to y is ['x', 'y']\n",
      "Path from source node to z is ['x', 'y', 'z']\n"
     ]
    }
   ],
   "source": [
    "def mydijkstra(inputgraph,sourcenode):\n",
    "    cost = {}   #save the node and its corresponding shortest distance in one dictionary\n",
    "    path = []   #save the shortest path\n",
    "    predecessor = {}  #predecessor and current node in one dictionary  \n",
    "    unknown_node = list(inputgraph.nodes)    #nodes that still does not find the shortest path \n",
    "\n",
    "     \n",
    "    #initialization\n",
    "    for item in unknown_node:\n",
    "         cost[item]= 999999\n",
    "         cost[sourcenode]=0\n",
    "    \n",
    "    ####first, find the shortest distance\n",
    "    while unknown_node != []:   # iterate until find all shortest distance for all nodes\n",
    "        pre_Node = None         # we store the current processing node as pre_node\n",
    "        for item in unknown_node:\n",
    "            if pre_Node is None:\n",
    "               pre_Node = item\n",
    "            elif cost[item] < cost[pre_Node]:  \n",
    "                pre_Node = item\n",
    "    \n",
    "        for childNode,weight in inputgraph[pre_Node].items():   # check the adjacent node and corresponging weight of current node\n",
    "            for value in weight.values(): \n",
    "                #compare the distance from parent node + shortest distance of this parent node with current distance\n",
    "                #choose smaller one and update\n",
    "                if value + cost[pre_Node] < cost[childNode]:             \n",
    "                    cost[childNode] =  value + cost[pre_Node]  \n",
    "                    predecessor[childNode] = pre_Node    #save the current node as predecessor\n",
    "        unknown_node.remove(str(pre_Node))\n",
    "\n",
    "    #print the cost\n",
    "    for item, value in cost.items():\n",
    "        print('The shortest distance from source node to',item,'is',value)\n",
    "            \n",
    "    ####second, find the shortest path \n",
    "    goal = list(inputgraph.nodes) \n",
    "    goal.remove(sourcenode)    #store the goal node (without source node) in one list\n",
    "    for item in goal:\n",
    "        dest = item   #for print\n",
    "        while item != sourcenode:\n",
    "                path.insert(0,item)  \n",
    "                item = predecessor[item]  #find the predecessor of the node to find the path\n",
    "        print('Path from source node to',dest,'is',path)\n",
    "        path=[]    #delete the path and search for next node \n",
    "\n",
    "mydijkstra(G,'u')\n",
    "    \n"
   ]
  },
  {
   "cell_type": "markdown",
   "metadata": {},
   "source": [
    "### Hints and Suggestions\n",
    "\n",
    "* Note that ```G[anode]``` returns a dictionary of anode’s neighbours and weights of respective links \n",
    "and ```G.nodes()``` returns the list of nodes in graph G.\n",
    "* You can convert a dictionary to a list and vice versa by using, e.g.\n",
    "\n",
    "```outputlist=[(item,itemval) for item,itemval in inputdict.items()]``` \n",
    "\n",
    "This is called list comprehension which is an elegant feature of python.\n",
    "\n",
    "```outputdict=dict([(item1,itemval1), (item2,itemval2), …])```\n",
    "* Another neat trick with list comprehension is on the fly filtering, e.g.\n",
    "\n",
    "```[(n,nval) for n,nval in InputDict.items() if n in AnotherList]```"
   ]
  },
  {
   "cell_type": "markdown",
   "metadata": {},
   "source": [
    "### Question 3.2. (1 pt)\n",
    "\n",
    "Check your answer using the (single source) Dijsktra functions provided by the networkx library."
   ]
  },
  {
   "cell_type": "code",
   "execution_count": 19,
   "metadata": {
    "scrolled": true
   },
   "outputs": [
    {
     "name": "stdout",
     "output_type": "stream",
     "text": [
      "{'u': ['u'], 'v': ['u', 'v'], 'w': ['u', 'x', 'y', 'w'], 'x': ['u', 'x'], 'y': ['u', 'x', 'y'], 'z': ['u', 'x', 'y', 'z']}\n",
      "{'u': 0, 'x': 1, 'v': 2, 'y': 2, 'w': 3, 'z': 4}\n"
     ]
    }
   ],
   "source": [
    "print(nx.single_source_dijkstra_path(G,'u'))\n",
    "print(nx.single_source_dijkstra_path_length(G,'u'))"
   ]
  },
  {
   "cell_type": "markdown",
   "metadata": {},
   "source": [
    "**Answer:**\n",
    "\n",
    "We can see that our answers from our function are same with that from functions provided by library. "
   ]
  },
  {
   "cell_type": "markdown",
   "metadata": {},
   "source": [
    "### *Optional* Bonus (1 point)\n",
    "\n",
    "Further test your algorithm with two other small (but larger than 8 node) weighted graphs. Check your answers using the networkx library functions."
   ]
  },
  {
   "cell_type": "code",
   "execution_count": 20,
   "metadata": {
    "scrolled": true
   },
   "outputs": [
    {
     "name": "stdout",
     "output_type": "stream",
     "text": [
      "The shortest distance from source node to a is 0\n",
      "The shortest distance from source node to b is 2\n",
      "The shortest distance from source node to c is 7\n",
      "The shortest distance from source node to d is 2\n",
      "Path from source node to b is ['b']\n",
      "Path from source node to c is ['b', 'c']\n",
      "Path from source node to d is ['d']\n",
      "The shortest path using library functions: {'a': ['a'], 'b': ['a', 'b'], 'd': ['a', 'd'], 'c': ['a', 'b', 'c']}\n",
      "The shortest distance using library functions: {'a': 0, 'b': 2, 'd': 2, 'c': 7}\n"
     ]
    },
    {
     "data": {
      "image/png": "[encoded data removed]",
      "text/plain": [
       "<matplotlib.figure.Figure at 0x14ed8ef0940>"
      ]
     },
     "metadata": {},
     "output_type": "display_data"
    }
   ],
   "source": [
    "# Create the graph\n",
    "G1 = nx.Graph()\n",
    "G1.add_nodes_from(['a', 'b', 'c', 'd'])\n",
    "G1.add_weighted_edges_from([('a', 'b', 2), ('b', 'c', 5), ('b', 'd', 1), ('a', 'd', 2)])\n",
    "\n",
    "# get labels and set positions\n",
    "Glabels1 = nx.get_edge_attributes(G1, 'weight')\n",
    "pos1 = {'a': [0, 1], 'b': [1, 2], 'c': [1, 0], 'd': [2, 1]}\n",
    "\n",
    "# Draw the graph\n",
    "plt.figure()\n",
    "nx.draw(G1, pos1, with_labels=True)\n",
    "nx.draw_networkx_edge_labels(G1, pos1, edge_labels=Glabels1, font_weight='bold')\n",
    "\n",
    "mydijkstra(G1,'a')\n",
    "print('The shortest path using library functions:',nx.single_source_dijkstra_path(G1,'a'))\n",
    "print('The shortest distance using library functions:',nx.single_source_dijkstra_path_length(G1,'a'))"
   ]
  },
  {
   "cell_type": "code",
   "execution_count": 21,
   "metadata": {},
   "outputs": [
    {
     "name": "stdout",
     "output_type": "stream",
     "text": [
      "The shortest distance from source node to e is 0\n",
      "The shortest distance from source node to f is 2\n",
      "The shortest distance from source node to g is 3\n",
      "The shortest distance from source node to h is 1\n",
      "The shortest distance from source node to j is 2\n",
      "The shortest distance from source node to k is 4\n",
      "Path from source node to f is ['f']\n",
      "Path from source node to g is ['j', 'g']\n",
      "Path from source node to h is ['h']\n",
      "Path from source node to j is ['j']\n",
      "Path from source node to k is ['h', 'k']\n",
      "The shortest path using library functions: {'e': ['e'], 'f': ['e', 'f'], 'g': ['e', 'j', 'g'], 'h': ['e', 'h'], 'j': ['e', 'j'], 'k': ['e', 'h', 'k']}\n",
      "The shortest distance using library functions: {'e': 0, 'h': 1, 'f': 2, 'j': 2, 'g': 3, 'k': 4}\n"
     ]
    },
    {
     "data": {
      "image/png": "[encoded data removed]",
      "text/plain": [
       "<matplotlib.figure.Figure at 0x14ed9016dd8>"
      ]
     },
     "metadata": {},
     "output_type": "display_data"
    }
   ],
   "source": [
    "# Create the graph\n",
    "G2 = nx.Graph()\n",
    "G2.add_nodes_from(['e', 'f', 'g', 'h', 'j', 'k'])\n",
    "G2.add_weighted_edges_from([('e', 'f', 2), ('e', 'g', 5), ('e', 'h', 1), ('e', 'j', 2), ('g', 'j', 1),('f', 'k', 4),('j', 'k', 2),('h', 'k', 3)])\n",
    "\n",
    "# get labels and set positions\n",
    "Glabels2 = nx.get_edge_attributes(G2, 'weight')\n",
    "pos2 = {'e': [0, 1], 'f': [0, 2], 'g': [1, 0], 'h': [1, 3], 'j': [3, 1], 'k': [3, 2]}\n",
    "\n",
    "# Draw the graph\n",
    "plt.figure()\n",
    "nx.draw(G2, pos2, with_labels=True)\n",
    "nx.draw_networkx_edge_labels(G2, pos2, edge_labels=Glabels2, font_weight='bold')\n",
    "\n",
    "mydijkstra(G2,'e')\n",
    "print('The shortest path using library functions:',nx.single_source_dijkstra_path(G2,'e'))\n",
    "print('The shortest distance using library functions:',nx.single_source_dijkstra_path_length(G2,'e'))"
   ]
  },
  {
   "cell_type": "markdown",
   "metadata": {},
   "source": [
    "**Answer:**\n",
    "\n",
    "We can see that our answers from our function are same with that from functions provided by library. "
   ]
  },
  {
   "cell_type": "markdown",
   "metadata": {},
   "source": [
    "# <font color='red'> Workshop Report Submission Instructions </font>\n",
    "\n",
    "_You should ideally complete the workshop tasks and answer the questions within the respective session!_ The submission deadline is usually Friday, the week after. Submission deadlines will be announced on *Canvas*.\n",
    "\n",
    "It is **mandatory to follow all of the submissions guidelines** given below. _Don't forget the Report submission information on top of this notebook!_\n",
    "\n",
    "1. The completed Jupyter notebook and its pdf version (you can simply print-preview and then print as pdf from within your browser) should be uploaded to the right place in *Canvas* by the announced deadline. _It is your responsibility to follow the announcements!_ **Late submissions will be penalised (up to 100% of the total mark depending on delay amount)!**\n",
    "2. Filename should be “ELEN90061 Workshop **W: StudentID1-StudentID2** of session **Day-Time**\", where **W** refers to the workshop number, **StudentID1-StudentID2** are your student numbers, **Day-Time** is your session day and time, e.g. *Tue-14*.\n",
    "3. Answers to questions, simulation results and diagrams should be included in the Jupyter notebook as text, code, plots. *If you don't know latex, you can write formulas/text to a paper by hand, scan it and then include as image within Markdown cells.*\n",
    "4. One report submission per group. \n",
    " \n",
    "### Additional guidelines for your programs:\n",
    "\n",
    "* Write modular code using functions. \n",
    "* Properly indent your code. But Python forces you do that anyway ;)\n",
    "* Heavily comment the code to describe your implementation and to show your understanding. No comments, no credit!\n",
    "* Make the code your own! It is encouraged to find and get inspired by online examples but you should exactly understand, modify as needed, and explain your code via comments. There will be no credit for blind copy/paste even if it somehow works (and it is easier to detect it than you might think)!"
   ]
  },
  {
   "cell_type": "code",
   "execution_count": null,
   "metadata": {},
   "outputs": [],
   "source": []
  }
 ],
 "metadata": {
  "kernelspec": {
   "display_name": "Python 3",
   "language": "python",
   "name": "python3"
  },
  "language_info": {
   "codemirror_mode": {
    "name": "ipython",
    "version": 3
   },
   "file_extension": ".py",
   "mimetype": "text/x-python",
   "name": "python",
   "nbconvert_exporter": "python",
   "pygments_lexer": "ipython3",
   "version": "3.6.4"
  }
 },
 "nbformat": 4,
 "nbformat_minor": 2
}
